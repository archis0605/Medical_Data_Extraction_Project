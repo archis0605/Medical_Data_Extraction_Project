{
 "cells": [
  {
   "cell_type": "code",
   "execution_count": 11,
   "id": "7cac1928",
   "metadata": {},
   "outputs": [],
   "source": [
    "from pdf2image import convert_from_path"
   ]
  },
  {
   "cell_type": "code",
   "execution_count": 12,
   "id": "846c7635",
   "metadata": {},
   "outputs": [],
   "source": [
    "pages = convert_from_path(r'docs\\patient_details\\pd_1.pdf', poppler_path=r'C:\\poppler-22.04.0\\Library\\bin')"
   ]
  },
  {
   "cell_type": "code",
   "execution_count": 13,
   "id": "2986e2e2",
   "metadata": {},
   "outputs": [
    {
     "data": {
      "text/plain": [
       "[<PIL.PpmImagePlugin.PpmImageFile image mode=RGB size=1867x2000 at 0x239D2A01E20>,\n",
       " <PIL.PpmImagePlugin.PpmImageFile image mode=RGB size=2000x1398 at 0x239D2A01AC0>]"
      ]
     },
     "execution_count": 13,
     "metadata": {},
     "output_type": "execute_result"
    }
   ],
   "source": [
    "pages"
   ]
  },
  {
   "cell_type": "code",
   "execution_count": 14,
   "id": "f6526a5c",
   "metadata": {},
   "outputs": [],
   "source": [
    "pages[0].show()"
   ]
  },
  {
   "cell_type": "code",
   "execution_count": 15,
   "id": "7575a71b",
   "metadata": {},
   "outputs": [],
   "source": [
    "import pytesseract"
   ]
  },
  {
   "cell_type": "code",
   "execution_count": 16,
   "id": "05cf3ef7",
   "metadata": {},
   "outputs": [
    {
     "name": "stdout",
     "output_type": "stream",
     "text": [
      "47/12/2020\n",
      "\n",
      "Patient Medical Record\n",
      "\n",
      "Patient Information Birth Date\n",
      "Kathy Crawford May 6 1972\n",
      "(737) 988-0851 Weight\n",
      "9264 Ash Dr 95\n",
      "New York City, 10005 .\n",
      "United States Height:\n",
      "190\n",
      "In Case of Emergency\n",
      "m _ eee ee\n",
      "Simeone Crawford 9266 Ash Dr\n",
      "New York City, New York, 10005\n",
      "Home phone United States\n",
      "(990) 375-4621\n",
      "Work phone\n",
      "Genera! Medical History\n",
      "\n",
      "Chicken Pox (Varicella):\n",
      "\n",
      "IMMUNE IMMUNE\n",
      "Have you had the Hepatitis B vaccination?\n",
      "\n",
      "No\n",
      "List any Medical Problems (asthma, seizures, headaches):\n",
      "\n",
      "Migraine\n"
     ]
    }
   ],
   "source": [
    "pytesseract.pytesseract.tesseract_cmd=r'C:\\Program Files\\Tesseract-OCR\\tesseract.exe'\n",
    "text = pytesseract.image_to_string(pages[0], lang='eng')\n",
    "print(text)"
   ]
  },
  {
   "cell_type": "code",
   "execution_count": 17,
   "id": "bb11ca9a",
   "metadata": {},
   "outputs": [],
   "source": [
    "import numpy as np\n",
    "import cv2\n",
    "from PIL import Image\n",
    "\n",
    "def preprocess_image(img):\n",
    "    gray = cv2.cvtColor(np.array(img), cv2.COLOR_BGR2GRAY)\n",
    "    resized = cv2.resize(gray, None, fx=2, fy=2, interpolation=cv2.INTER_LINEAR)\n",
    "    processed_image = cv2.adaptiveThreshold(\n",
    "        resized,\n",
    "        255,\n",
    "        cv2.ADAPTIVE_THRESH_GAUSSIAN_C, \n",
    "        cv2.THRESH_BINARY, \n",
    "        61,\n",
    "        11\n",
    "    )\n",
    "    return processed_image"
   ]
  },
  {
   "cell_type": "code",
   "execution_count": 18,
   "id": "6be972c9",
   "metadata": {},
   "outputs": [],
   "source": [
    "img = preprocess_image(pages[0])\n",
    "Image.fromarray(img).show()"
   ]
  },
  {
   "cell_type": "code",
   "execution_count": 19,
   "id": "afe353c2",
   "metadata": {},
   "outputs": [
    {
     "name": "stdout",
     "output_type": "stream",
     "text": [
      "17/12/2020\n",
      "\n",
      "Patient Medical Record . : :\n",
      "\n",
      "Patient Information\n",
      "\n",
      "Birth Date\n",
      "Kathy Crawford May 6 1972\n",
      "(737) 988-0851 Weight:\n",
      "9264 Ash Dr 95\n",
      "New York City, 10005 a\n",
      "United States Height:\n",
      "190\n",
      "In Case of Emergency\n",
      "ee oe\n",
      "Simeone Crawford 9266 Ash Dr\n",
      "New York City, New York, 10005\n",
      "Home phone United States\n",
      "(990) 375-4621\n",
      "Work phone\n",
      "Genera! Medical History\n",
      "I i\n",
      "Chicken Pox (Varicella): Measies:\n",
      "IMMUNE IMMUNE\n",
      "\n",
      "Have you had the Hepatitis B vaccination?\n",
      "\n",
      "No\n",
      "\n",
      "List any Medical Problems (asthma, seizures, headaches):\n",
      "\n",
      "Migraine\n"
     ]
    }
   ],
   "source": [
    "pytesseract.pytesseract.tesseract_cmd=r'C:\\Program Files\\Tesseract-OCR\\tesseract.exe'\n",
    "text = pytesseract.image_to_string(img, lang='eng')\n",
    "print(text)"
   ]
  },
  {
   "cell_type": "code",
   "execution_count": 20,
   "id": "9e1b8a66",
   "metadata": {},
   "outputs": [],
   "source": [
    "import re"
   ]
  },
  {
   "cell_type": "code",
   "execution_count": 21,
   "id": "d71f75e3",
   "metadata": {},
   "outputs": [
    {
     "data": {
      "text/plain": [
       "['\\n\\nBirth Date\\nKathy Crawford May 6 1972\\n']"
      ]
     },
     "execution_count": 21,
     "metadata": {},
     "output_type": "execute_result"
    }
   ],
   "source": [
    "pattern = 'Patient Information(.*?)\\(\\d{3}\\)'\n",
    "matches = re.findall(pattern, text, flags=re.DOTALL)\n",
    "matches"
   ]
  },
  {
   "cell_type": "code",
   "execution_count": 22,
   "id": "689d2617",
   "metadata": {},
   "outputs": [
    {
     "data": {
      "text/plain": [
       "'Birth Date\\nKathy Crawford May 6 1972'"
      ]
     },
     "execution_count": 22,
     "metadata": {},
     "output_type": "execute_result"
    }
   ],
   "source": [
    "matches[0].strip()"
   ]
  },
  {
   "cell_type": "code",
   "execution_count": 23,
   "id": "c297fc2b",
   "metadata": {},
   "outputs": [
    {
     "data": {
      "text/plain": [
       "'Kathy Crawford May 6 1972'"
      ]
     },
     "execution_count": 23,
     "metadata": {},
     "output_type": "execute_result"
    }
   ],
   "source": [
    "match = matches[0].replace(\"Birth Date\",\"\").strip()\n",
    "match"
   ]
  },
  {
   "cell_type": "code",
   "execution_count": 24,
   "id": "678888b5",
   "metadata": {},
   "outputs": [
    {
     "data": {
      "text/plain": [
       "'May 6 1972'"
      ]
     },
     "execution_count": 24,
     "metadata": {},
     "output_type": "execute_result"
    }
   ],
   "source": [
    "pattern = '((Jan|Feb|March|April|May|June|July|Aug|Sep|Oct|Nov|Dec)[ \\d]+)'\n",
    "date_matches = re.findall(pattern, match)\n",
    "date = date_matches[0][0]\n",
    "date"
   ]
  },
  {
   "cell_type": "code",
   "execution_count": 25,
   "id": "4878ec07",
   "metadata": {},
   "outputs": [
    {
     "data": {
      "text/plain": [
       "'Kathy Crawford'"
      ]
     },
     "execution_count": 25,
     "metadata": {},
     "output_type": "execute_result"
    }
   ],
   "source": [
    "match.replace(date, '').strip()"
   ]
  },
  {
   "cell_type": "code",
   "execution_count": 26,
   "id": "1584c864",
   "metadata": {},
   "outputs": [],
   "source": [
    "def remove_noise_from_name(name):\n",
    "    name = name.replace('Birth Date','').strip()\n",
    "    date_pattern = '((Jan|Feb|March|April|May|June|July|Aug|Sep|Oct|Nov|Dec)[ \\d]+)'\n",
    "    date_matches = re.findall(date_pattern, name)\n",
    "    \n",
    "    if date_matches:\n",
    "        date = date_matches[0][0]\n",
    "        name = name.replace(date, '').strip()\n",
    "    \n",
    "    return name"
   ]
  },
  {
   "cell_type": "code",
   "execution_count": 27,
   "id": "ac963d81",
   "metadata": {},
   "outputs": [
    {
     "data": {
      "text/plain": [
       "'Kathy Crawford'"
      ]
     },
     "execution_count": 27,
     "metadata": {},
     "output_type": "execute_result"
    }
   ],
   "source": [
    "name = '\\n\\nBirth Date\\nKathy Crawford May 6 1972\\n'\n",
    "name = remove_noise_from_name(name)\n",
    "name"
   ]
  },
  {
   "cell_type": "code",
   "execution_count": 28,
   "id": "379bb8a0",
   "metadata": {},
   "outputs": [
    {
     "data": {
      "text/plain": [
       "[('\\n\\nBirth Date\\nKathy Crawford May 6 1972\\n', '(737) 988-0851')]"
      ]
     },
     "execution_count": 28,
     "metadata": {},
     "output_type": "execute_result"
    }
   ],
   "source": [
    "pattern = 'Patient Information(.*?)(\\(\\d{3}\\) \\d{3}-\\d{4})'\n",
    "\n",
    "matches = re.findall(pattern, text, flags=re.DOTALL)\n",
    "matches"
   ]
  },
  {
   "cell_type": "code",
   "execution_count": 29,
   "id": "891a0b15",
   "metadata": {},
   "outputs": [
    {
     "data": {
      "text/plain": [
       "'(737) 988-0851'"
      ]
     },
     "execution_count": 29,
     "metadata": {},
     "output_type": "execute_result"
    }
   ],
   "source": [
    "matches[0][1]"
   ]
  },
  {
   "cell_type": "code",
   "execution_count": 30,
   "id": "f936dae6",
   "metadata": {},
   "outputs": [
    {
     "data": {
      "text/plain": [
       "['No']"
      ]
     },
     "execution_count": 30,
     "metadata": {},
     "output_type": "execute_result"
    }
   ],
   "source": [
    "pattern = 'Have you had the Hepatitis B vaccination\\?.*(Yes|No)'\n",
    "\n",
    "matches = re.findall(pattern, text, flags=re.DOTALL)\n",
    "matches"
   ]
  },
  {
   "cell_type": "code",
   "execution_count": 32,
   "id": "8285d2e6",
   "metadata": {},
   "outputs": [
    {
     "data": {
      "text/plain": [
       "'Migraine'"
      ]
     },
     "execution_count": 32,
     "metadata": {},
     "output_type": "execute_result"
    }
   ],
   "source": [
    "pattern = 'List any Medical Problems \\(asthma, seizures, headaches\\):(.*)'\n",
    "\n",
    "matches = re.findall(pattern, text, flags=re.DOTALL)\n",
    "matches[0].strip()"
   ]
  }
 ],
 "metadata": {
  "kernelspec": {
   "display_name": "Python 3 (ipykernel)",
   "language": "python",
   "name": "python3"
  },
  "language_info": {
   "codemirror_mode": {
    "name": "ipython",
    "version": 3
   },
   "file_extension": ".py",
   "mimetype": "text/x-python",
   "name": "python",
   "nbconvert_exporter": "python",
   "pygments_lexer": "ipython3",
   "version": "3.8.10"
  }
 },
 "nbformat": 4,
 "nbformat_minor": 5
}
